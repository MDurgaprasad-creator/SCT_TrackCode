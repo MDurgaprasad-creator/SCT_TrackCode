{
 "cells": [
  {
   "cell_type": "markdown",
   "id": "2bd046c7-a74c-4636-9bb3-a807aad16b8c",
   "metadata": {},
   "source": [
    "# SKILL_CRAFT_TECHNOLOGY:TASK_4"
   ]
  },
  {
   "cell_type": "markdown",
   "id": "eaea63a6-3fcf-4b9f-9b32-1ca6d42090fb",
   "metadata": {},
   "source": [
    "### TASK:\n",
    "### Analyze traffic accident data to identify patterns related to road conditions, weather, and time of day. Visualize accident hotspots and contributing factors.\n"
   ]
  },
  {
   "cell_type": "markdown",
   "id": "3a5638aa-bc91-4f07-b897-45ce3833c613",
   "metadata": {},
   "source": [
    "#### importing important libraries"
   ]
  },
  {
   "cell_type": "code",
   "execution_count": 19,
   "id": "bbfdf792-40f2-42dd-88f7-eafb9021093d",
   "metadata": {},
   "outputs": [],
   "source": [
    "import pandas as pd\n",
    "import zipfile\n",
    "import numpy as np\n",
    "import matplotlib.pyplot as plt\n",
    "import seaborn as sns\n",
    "from sklearn.model_selection import train_test_split\n",
    "from sklearn.preprocessing import LabelEncoder\n",
    "from sklearn.tree import DecisionTreeClassifier, plot_tree\n",
    "from sklearn.metrics import accuracy_score, classification_report\n",
    "\n"
   ]
  },
  {
   "cell_type": "markdown",
   "id": "1c0091d2-3022-4423-9f3b-834aed2e92e3",
   "metadata": {},
   "source": [
    "#### loading dataset"
   ]
  },
  {
   "cell_type": "code",
   "execution_count": 20,
   "id": "66bd4004-2240-4a47-badb-f16cda5108de",
   "metadata": {},
   "outputs": [
    {
     "data": {
      "text/html": [
       "<div>\n",
       "<style scoped>\n",
       "    .dataframe tbody tr th:only-of-type {\n",
       "        vertical-align: middle;\n",
       "    }\n",
       "\n",
       "    .dataframe tbody tr th {\n",
       "        vertical-align: top;\n",
       "    }\n",
       "\n",
       "    .dataframe thead th {\n",
       "        text-align: right;\n",
       "    }\n",
       "</style>\n",
       "<table border=\"1\" class=\"dataframe\">\n",
       "  <thead>\n",
       "    <tr style=\"text-align: right;\">\n",
       "      <th></th>\n",
       "      <th>Start_Time</th>\n",
       "      <th>Weather_Condition</th>\n",
       "      <th>Road_Condition</th>\n",
       "      <th>Start_Lat</th>\n",
       "      <th>Start_Lng</th>\n",
       "    </tr>\n",
       "  </thead>\n",
       "  <tbody>\n",
       "    <tr>\n",
       "      <th>0</th>\n",
       "      <td>01-01-2023 00:00</td>\n",
       "      <td>Clear</td>\n",
       "      <td>Dry</td>\n",
       "      <td>34.05</td>\n",
       "      <td>-118.25</td>\n",
       "    </tr>\n",
       "    <tr>\n",
       "      <th>1</th>\n",
       "      <td>01-01-2023 01:00</td>\n",
       "      <td>Rain</td>\n",
       "      <td>Wet</td>\n",
       "      <td>34.06</td>\n",
       "      <td>-118.24</td>\n",
       "    </tr>\n",
       "    <tr>\n",
       "      <th>2</th>\n",
       "      <td>01-01-2023 02:00</td>\n",
       "      <td>Cloudy</td>\n",
       "      <td>Snowy</td>\n",
       "      <td>34.07</td>\n",
       "      <td>-118.23</td>\n",
       "    </tr>\n",
       "    <tr>\n",
       "      <th>3</th>\n",
       "      <td>01-01-2023 03:00</td>\n",
       "      <td>Fog</td>\n",
       "      <td>Icy</td>\n",
       "      <td>34.08</td>\n",
       "      <td>-118.22</td>\n",
       "    </tr>\n",
       "    <tr>\n",
       "      <th>4</th>\n",
       "      <td>01-01-2023 04:00</td>\n",
       "      <td>Snow</td>\n",
       "      <td>Gravel</td>\n",
       "      <td>34.09</td>\n",
       "      <td>-118.21</td>\n",
       "    </tr>\n",
       "    <tr>\n",
       "      <th>...</th>\n",
       "      <td>...</td>\n",
       "      <td>...</td>\n",
       "      <td>...</td>\n",
       "      <td>...</td>\n",
       "      <td>...</td>\n",
       "    </tr>\n",
       "    <tr>\n",
       "      <th>95</th>\n",
       "      <td>04-01-2023 23:00</td>\n",
       "      <td>Clear</td>\n",
       "      <td>Dry</td>\n",
       "      <td>34.05</td>\n",
       "      <td>-118.25</td>\n",
       "    </tr>\n",
       "    <tr>\n",
       "      <th>96</th>\n",
       "      <td>05-01-2023 00:00</td>\n",
       "      <td>Rain</td>\n",
       "      <td>Wet</td>\n",
       "      <td>34.06</td>\n",
       "      <td>-118.24</td>\n",
       "    </tr>\n",
       "    <tr>\n",
       "      <th>97</th>\n",
       "      <td>05-01-2023 01:00</td>\n",
       "      <td>Cloudy</td>\n",
       "      <td>Snowy</td>\n",
       "      <td>34.07</td>\n",
       "      <td>-118.23</td>\n",
       "    </tr>\n",
       "    <tr>\n",
       "      <th>98</th>\n",
       "      <td>05-01-2023 02:00</td>\n",
       "      <td>Fog</td>\n",
       "      <td>Icy</td>\n",
       "      <td>34.08</td>\n",
       "      <td>-118.22</td>\n",
       "    </tr>\n",
       "    <tr>\n",
       "      <th>99</th>\n",
       "      <td>05-01-2023 03:00</td>\n",
       "      <td>Snow</td>\n",
       "      <td>Gravel</td>\n",
       "      <td>34.09</td>\n",
       "      <td>-118.21</td>\n",
       "    </tr>\n",
       "  </tbody>\n",
       "</table>\n",
       "<p>100 rows × 5 columns</p>\n",
       "</div>"
      ],
      "text/plain": [
       "          Start_Time Weather_Condition Road_Condition  Start_Lat  Start_Lng\n",
       "0   01-01-2023 00:00             Clear            Dry      34.05    -118.25\n",
       "1   01-01-2023 01:00              Rain            Wet      34.06    -118.24\n",
       "2   01-01-2023 02:00            Cloudy          Snowy      34.07    -118.23\n",
       "3   01-01-2023 03:00               Fog            Icy      34.08    -118.22\n",
       "4   01-01-2023 04:00              Snow         Gravel      34.09    -118.21\n",
       "..               ...               ...            ...        ...        ...\n",
       "95  04-01-2023 23:00             Clear            Dry      34.05    -118.25\n",
       "96  05-01-2023 00:00              Rain            Wet      34.06    -118.24\n",
       "97  05-01-2023 01:00            Cloudy          Snowy      34.07    -118.23\n",
       "98  05-01-2023 02:00               Fog            Icy      34.08    -118.22\n",
       "99  05-01-2023 03:00              Snow         Gravel      34.09    -118.21\n",
       "\n",
       "[100 rows x 5 columns]"
      ]
     },
     "execution_count": 20,
     "metadata": {},
     "output_type": "execute_result"
    }
   ],
   "source": [
    "data=pd.read_csv(\"clean_accident_dataset.csv\")\n",
    "data"
   ]
  },
  {
   "cell_type": "markdown",
   "id": "b77a6654-b21f-4ef7-90e0-2f3037dedff1",
   "metadata": {},
   "source": [
    "#### describing the datset"
   ]
  },
  {
   "cell_type": "code",
   "execution_count": 21,
   "id": "851f9317-d462-4da0-94f3-7306e6fac86e",
   "metadata": {},
   "outputs": [
    {
     "data": {
      "text/html": [
       "<div>\n",
       "<style scoped>\n",
       "    .dataframe tbody tr th:only-of-type {\n",
       "        vertical-align: middle;\n",
       "    }\n",
       "\n",
       "    .dataframe tbody tr th {\n",
       "        vertical-align: top;\n",
       "    }\n",
       "\n",
       "    .dataframe thead th {\n",
       "        text-align: right;\n",
       "    }\n",
       "</style>\n",
       "<table border=\"1\" class=\"dataframe\">\n",
       "  <thead>\n",
       "    <tr style=\"text-align: right;\">\n",
       "      <th></th>\n",
       "      <th>Start_Lat</th>\n",
       "      <th>Start_Lng</th>\n",
       "    </tr>\n",
       "  </thead>\n",
       "  <tbody>\n",
       "    <tr>\n",
       "      <th>count</th>\n",
       "      <td>100.000000</td>\n",
       "      <td>100.000000</td>\n",
       "    </tr>\n",
       "    <tr>\n",
       "      <th>mean</th>\n",
       "      <td>34.070000</td>\n",
       "      <td>-118.230000</td>\n",
       "    </tr>\n",
       "    <tr>\n",
       "      <th>std</th>\n",
       "      <td>0.014213</td>\n",
       "      <td>0.014213</td>\n",
       "    </tr>\n",
       "    <tr>\n",
       "      <th>min</th>\n",
       "      <td>34.050000</td>\n",
       "      <td>-118.250000</td>\n",
       "    </tr>\n",
       "    <tr>\n",
       "      <th>25%</th>\n",
       "      <td>34.060000</td>\n",
       "      <td>-118.240000</td>\n",
       "    </tr>\n",
       "    <tr>\n",
       "      <th>50%</th>\n",
       "      <td>34.070000</td>\n",
       "      <td>-118.230000</td>\n",
       "    </tr>\n",
       "    <tr>\n",
       "      <th>75%</th>\n",
       "      <td>34.080000</td>\n",
       "      <td>-118.220000</td>\n",
       "    </tr>\n",
       "    <tr>\n",
       "      <th>max</th>\n",
       "      <td>34.090000</td>\n",
       "      <td>-118.210000</td>\n",
       "    </tr>\n",
       "  </tbody>\n",
       "</table>\n",
       "</div>"
      ],
      "text/plain": [
       "        Start_Lat   Start_Lng\n",
       "count  100.000000  100.000000\n",
       "mean    34.070000 -118.230000\n",
       "std      0.014213    0.014213\n",
       "min     34.050000 -118.250000\n",
       "25%     34.060000 -118.240000\n",
       "50%     34.070000 -118.230000\n",
       "75%     34.080000 -118.220000\n",
       "max     34.090000 -118.210000"
      ]
     },
     "execution_count": 21,
     "metadata": {},
     "output_type": "execute_result"
    }
   ],
   "source": [
    "data.describe()"
   ]
  },
  {
   "cell_type": "markdown",
   "id": "75f5765b-e989-49b8-9428-98beb0f7f222",
   "metadata": {},
   "source": [
    "#### Getting information about dataset"
   ]
  },
  {
   "cell_type": "code",
   "execution_count": 22,
   "id": "78b0511a-2143-4ea3-bc81-d157bf97b480",
   "metadata": {},
   "outputs": [
    {
     "name": "stdout",
     "output_type": "stream",
     "text": [
      "<class 'pandas.core.frame.DataFrame'>\n",
      "RangeIndex: 100 entries, 0 to 99\n",
      "Data columns (total 5 columns):\n",
      " #   Column             Non-Null Count  Dtype  \n",
      "---  ------             --------------  -----  \n",
      " 0   Start_Time         100 non-null    object \n",
      " 1   Weather_Condition  100 non-null    object \n",
      " 2   Road_Condition     100 non-null    object \n",
      " 3   Start_Lat          100 non-null    float64\n",
      " 4   Start_Lng          100 non-null    float64\n",
      "dtypes: float64(2), object(3)\n",
      "memory usage: 4.0+ KB\n"
     ]
    }
   ],
   "source": [
    "data.info()"
   ]
  },
  {
   "cell_type": "markdown",
   "id": "2b70a0ef-51ff-4478-a0a4-2cf1228b7d8d",
   "metadata": {},
   "source": [
    "#### checking null values"
   ]
  },
  {
   "cell_type": "code",
   "execution_count": 23,
   "id": "80111cb5-8228-4c7c-b4ae-dcac410e4fda",
   "metadata": {},
   "outputs": [
    {
     "data": {
      "text/plain": [
       "Start_Time           0\n",
       "Weather_Condition    0\n",
       "Road_Condition       0\n",
       "Start_Lat            0\n",
       "Start_Lng            0\n",
       "dtype: int64"
      ]
     },
     "execution_count": 23,
     "metadata": {},
     "output_type": "execute_result"
    }
   ],
   "source": [
    "data.isnull().sum()"
   ]
  },
  {
   "cell_type": "code",
   "execution_count": 24,
   "id": "b1d0a655-eef4-4101-ae04-31239afbba5b",
   "metadata": {},
   "outputs": [],
   "source": [
    "# Convert Start_Time to datetime format\n",
    "data['Start_Time'] = pd.to_datetime(data['Start_Time'])\n",
    "\n",
    "# Extract hour for time of day analysis\n",
    "data['Hour'] = data['Start_Time'].dt.hour"
   ]
  },
  {
   "cell_type": "markdown",
   "id": "0cd46db3-0f8c-4398-b90d-53271c06908c",
   "metadata": {},
   "source": [
    "#### 1. Accidents by Time of Day\n"
   ]
  },
  {
   "cell_type": "code",
   "execution_count": 25,
   "id": "e0fa98a6-51da-4b18-a623-7f1dadc293de",
   "metadata": {},
   "outputs": [
    {
     "data": {
      "image/png": "[encoded data removed]",
      "text/plain": [
       "<Figure size 1000x500 with 1 Axes>"
      ]
     },
     "metadata": {},
     "output_type": "display_data"
    }
   ],
   "source": [
    "plt.figure(figsize=(10, 5))\n",
    "sns.countplot(x='Hour', data=data, color='skyblue')\n",
    "plt.title('Accidents by Hour of Day')\n",
    "plt.xlabel('Hour')\n",
    "plt.ylabel('Number of Accidents')\n",
    "plt.grid(axis='y')\n",
    "plt.tight_layout()\n",
    "plt.show()"
   ]
  },
  {
   "cell_type": "markdown",
   "id": "4b1b1087-338f-473c-a643-cd39f9b6855d",
   "metadata": {},
   "source": [
    "####  2. Accidents by Weather Condition\n"
   ]
  },
  {
   "cell_type": "code",
   "execution_count": 33,
   "id": "30e73123-08c7-4b2f-935b-336c894316e4",
   "metadata": {},
   "outputs": [
    {
     "data": {
      "image/png": "[encoded data removed]",
      "text/plain": [
       "<Figure size 800x500 with 1 Axes>"
      ]
     },
     "metadata": {},
     "output_type": "display_data"
    }
   ],
   "source": [
    "plt.figure(figsize=(8, 5))\n",
    "sns.countplot(y='Weather_Condition',data=data, order=data['Weather_Condition'].value_counts().index, color='green')\n",
    "plt.title('Accidents by Weather Condition')\n",
    "plt.xlabel('Number of Accidents')\n",
    "plt.ylabel('Weather Condition')\n",
    "plt.tight_layout()\n",
    "plt.show()"
   ]
  },
  {
   "cell_type": "markdown",
   "id": "96c7354f-8c41-4889-a349-33674a4ab02f",
   "metadata": {},
   "source": [
    "#### 3. Accidents by Road Condition\n"
   ]
  },
  {
   "cell_type": "code",
   "execution_count": 34,
   "id": "d5add346-a4bc-4878-8f58-06801fcba9df",
   "metadata": {},
   "outputs": [
    {
     "data": {
      "image/png": "[encoded data removed]",
      "text/plain": [
       "<Figure size 800x500 with 1 Axes>"
      ]
     },
     "metadata": {},
     "output_type": "display_data"
    }
   ],
   "source": [
    "plt.figure(figsize=(8, 5))\n",
    "sns.countplot(y='Road_Condition', data=data, order=data['Road_Condition'].value_counts().index,hue='Road_Condition', palette='magma')\n",
    "plt.title('Accidents by Road Condition')\n",
    "plt.xlabel('Number of Accidents')\n",
    "plt.ylabel('Road Condition')\n",
    "plt.tight_layout()\n",
    "plt.show()"
   ]
  },
  {
   "cell_type": "code",
   "execution_count": 36,
   "id": "b092dff2-bb98-458d-8ed5-7e683f216904",
   "metadata": {},
   "outputs": [
    {
     "name": "stdout",
     "output_type": "stream",
     "text": [
      "   Start_Lat  Start_Lng\n",
      "0      34.05    -118.25\n",
      "1      34.06    -118.24\n",
      "2      34.07    -118.23\n",
      "3      34.08    -118.22\n",
      "4      34.09    -118.21\n",
      "        Start_Lat   Start_Lng\n",
      "count  100.000000  100.000000\n",
      "mean    34.070000 -118.230000\n",
      "std      0.014213    0.014213\n",
      "min     34.050000 -118.250000\n",
      "25%     34.060000 -118.240000\n",
      "50%     34.070000 -118.230000\n",
      "75%     34.080000 -118.220000\n",
      "max     34.090000 -118.210000\n"
     ]
    }
   ],
   "source": [
    "print(data[['Start_Lat', 'Start_Lng']].head())\n",
    "print(data[['Start_Lat', 'Start_Lng']].describe())"
   ]
  },
  {
   "cell_type": "markdown",
   "id": "0a648a3c-5f7c-46d4-a204-685db7e07b22",
   "metadata": {},
   "source": [
    "#### 4.Plot the KDE heatmap\n",
    "\n",
    "\n",
    "\n"
   ]
  },
  {
   "cell_type": "code",
   "execution_count": 38,
   "id": "f76c7068-2ef8-4736-98b3-76107c98f310",
   "metadata": {},
   "outputs": [
    {
     "data": {
      "image/png": "[encoded data removed]",
      "text/plain": [
       "<Figure size 800x600 with 1 Axes>"
      ]
     },
     "metadata": {},
     "output_type": "display_data"
    }
   ],
   "source": [
    "plt.figure(figsize=(8, 6))\n",
    "sns.kdeplot(\n",
    "    x=data['Start_Lat'],\n",
    "    y=data['Start_Lng'],\n",
    "    cmap=\"Reds\",\n",
    "    fill=True,\n",
    "    bw_adjust=0.3,\n",
    "    warn_singular=False\n",
    ")\n",
    "plt.title('Accident Hotspots (Geographic Density)')\n",
    "plt.xlabel('Latitude')\n",
    "plt.ylabel('Longitude')\n",
    "plt.tight_layout()\n",
    "plt.show()\n"
   ]
  },
  {
   "cell_type": "code",
   "execution_count": null,
   "id": "dc9d22df-f5a2-46bd-a7b1-cead9530e978",
   "metadata": {},
   "outputs": [],
   "source": []
  }
 ],
 "metadata": {
  "kernelspec": {
   "display_name": "Python 3 (ipykernel)",
   "language": "python",
   "name": "python3"
  },
  "language_info": {
   "codemirror_mode": {
    "name": "ipython",
    "version": 3
   },
   "file_extension": ".py",
   "mimetype": "text/x-python",
   "name": "python",
   "nbconvert_exporter": "python",
   "pygments_lexer": "ipython3",
   "version": "3.12.7"
  }
 },
 "nbformat": 4,
 "nbformat_minor": 5
}
