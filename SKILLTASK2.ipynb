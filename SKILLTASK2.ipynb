{
 "cells": [
  {
   "cell_type": "markdown",
   "id": "bc420bf0-7247-4179-94c4-8372bfd1db63",
   "metadata": {},
   "source": [
    "# TITANIC DATA SET - EDA PROCESS"
   ]
  },
  {
   "cell_type": "code",
   "execution_count": 14,
   "id": "c699b960-2454-432d-83c0-e0ae64f036be",
   "metadata": {},
   "outputs": [
    {
     "name": "stdout",
     "output_type": "stream",
     "text": [
      "Path to Data set  files :  C:\\Users\\mdurg\\.cache\\kagglehub\\datasets\\yasserh\\titanic-dataset\\versions\\1\n",
      "['Titanic-Dataset.csv']\n",
      "   PassengerId  Survived  Pclass  \\\n",
      "0            1         0       3   \n",
      "1            2         1       1   \n",
      "2            3         1       3   \n",
      "3            4         1       1   \n",
      "4            5         0       3   \n",
      "\n",
      "                                                Name     Sex   Age  SibSp  \\\n",
      "0                            Braund, Mr. Owen Harris    male  22.0      1   \n",
      "1  Cumings, Mrs. John Bradley (Florence Briggs Th...  female  38.0      1   \n",
      "2                             Heikkinen, Miss. Laina  female  26.0      0   \n",
      "3       Futrelle, Mrs. Jacques Heath (Lily May Peel)  female  35.0      1   \n",
      "4                           Allen, Mr. William Henry    male  35.0      0   \n",
      "\n",
      "   Parch            Ticket     Fare Cabin Embarked  \n",
      "0      0         A/5 21171   7.2500   NaN        S  \n",
      "1      0          PC 17599  71.2833   C85        C  \n",
      "2      0  STON/O2. 3101282   7.9250   NaN        S  \n",
      "3      0            113803  53.1000  C123        S  \n",
      "4      0            373450   8.0500   NaN        S  \n"
     ]
    }
   ],
   "source": [
    "import kagglehub\n",
    "import os\n",
    "import pandas as pd\n",
    "import numpy as np\n",
    "\n",
    "path = kagglehub.dataset_download(\"yasserh/titanic-dataset\")\n",
    "print(\"Path to Data set  files : \",path)\n",
    "\n",
    "print(os.listdir(path))\n",
    "csv_file_path = os.path.join(path,'Titanic-Dataset.csv')\n",
    "\n",
    "data = pd.read_csv(csv_file_path)\n",
    "\n",
    "print(data.head())"
   ]
  },
  {
   "cell_type": "code",
   "execution_count": 15,
   "id": "cc720d0b-69a0-434e-953d-1f4f31f439cc",
   "metadata": {},
   "outputs": [
    {
     "name": "stdout",
     "output_type": "stream",
     "text": [
      "PassengerId      int64\n",
      "Survived         int64\n",
      "Pclass           int64\n",
      "Name            object\n",
      "Sex             object\n",
      "Age            float64\n",
      "SibSp            int64\n",
      "Parch            int64\n",
      "Ticket          object\n",
      "Fare           float64\n",
      "Cabin           object\n",
      "Embarked        object\n",
      "dtype: object\n",
      "                                                Name     Sex  \\\n",
      "0                            Braund, Mr. Owen Harris    male   \n",
      "1  Cumings, Mrs. John Bradley (Florence Briggs Th...  female   \n",
      "2                             Heikkinen, Miss. Laina  female   \n",
      "3       Futrelle, Mrs. Jacques Heath (Lily May Peel)  female   \n",
      "4                           Allen, Mr. William Henry    male   \n",
      "\n",
      "             Ticket Cabin Embarked  \n",
      "0         A/5 21171   NaN        S  \n",
      "1          PC 17599   C85        C  \n",
      "2  STON/O2. 3101282   NaN        S  \n",
      "3            113803  C123        S  \n",
      "4            373450   NaN        S  \n"
     ]
    }
   ],
   "source": [
    "print(data.dtypes)\n",
    "print(data.select_dtypes(include=['object']).head())"
   ]
  },
  {
   "cell_type": "markdown",
   "id": "91cbf83a-435f-4c53-9ac5-f54f6543abe4",
   "metadata": {},
   "source": [
    "## DESCRIBING THE DATA"
   ]
  },
  {
   "cell_type": "code",
   "execution_count": 16,
   "id": "9635b748-ecf8-4285-adaa-6c84ca50f75b",
   "metadata": {},
   "outputs": [
    {
     "data": {
      "text/html": [
       "<div>\n",
       "<style scoped>\n",
       "    .dataframe tbody tr th:only-of-type {\n",
       "        vertical-align: middle;\n",
       "    }\n",
       "\n",
       "    .dataframe tbody tr th {\n",
       "        vertical-align: top;\n",
       "    }\n",
       "\n",
       "    .dataframe thead th {\n",
       "        text-align: right;\n",
       "    }\n",
       "</style>\n",
       "<table border=\"1\" class=\"dataframe\">\n",
       "  <thead>\n",
       "    <tr style=\"text-align: right;\">\n",
       "      <th></th>\n",
       "      <th>PassengerId</th>\n",
       "      <th>Survived</th>\n",
       "      <th>Pclass</th>\n",
       "      <th>Age</th>\n",
       "      <th>SibSp</th>\n",
       "      <th>Parch</th>\n",
       "      <th>Fare</th>\n",
       "    </tr>\n",
       "  </thead>\n",
       "  <tbody>\n",
       "    <tr>\n",
       "      <th>count</th>\n",
       "      <td>891.000000</td>\n",
       "      <td>891.000000</td>\n",
       "      <td>891.000000</td>\n",
       "      <td>714.000000</td>\n",
       "      <td>891.000000</td>\n",
       "      <td>891.000000</td>\n",
       "      <td>891.000000</td>\n",
       "    </tr>\n",
       "    <tr>\n",
       "      <th>mean</th>\n",
       "      <td>446.000000</td>\n",
       "      <td>0.383838</td>\n",
       "      <td>2.308642</td>\n",
       "      <td>29.699118</td>\n",
       "      <td>0.523008</td>\n",
       "      <td>0.381594</td>\n",
       "      <td>32.204208</td>\n",
       "    </tr>\n",
       "    <tr>\n",
       "      <th>std</th>\n",
       "      <td>257.353842</td>\n",
       "      <td>0.486592</td>\n",
       "      <td>0.836071</td>\n",
       "      <td>14.526497</td>\n",
       "      <td>1.102743</td>\n",
       "      <td>0.806057</td>\n",
       "      <td>49.693429</td>\n",
       "    </tr>\n",
       "    <tr>\n",
       "      <th>min</th>\n",
       "      <td>1.000000</td>\n",
       "      <td>0.000000</td>\n",
       "      <td>1.000000</td>\n",
       "      <td>0.420000</td>\n",
       "      <td>0.000000</td>\n",
       "      <td>0.000000</td>\n",
       "      <td>0.000000</td>\n",
       "    </tr>\n",
       "    <tr>\n",
       "      <th>25%</th>\n",
       "      <td>223.500000</td>\n",
       "      <td>0.000000</td>\n",
       "      <td>2.000000</td>\n",
       "      <td>20.125000</td>\n",
       "      <td>0.000000</td>\n",
       "      <td>0.000000</td>\n",
       "      <td>7.910400</td>\n",
       "    </tr>\n",
       "    <tr>\n",
       "      <th>50%</th>\n",
       "      <td>446.000000</td>\n",
       "      <td>0.000000</td>\n",
       "      <td>3.000000</td>\n",
       "      <td>28.000000</td>\n",
       "      <td>0.000000</td>\n",
       "      <td>0.000000</td>\n",
       "      <td>14.454200</td>\n",
       "    </tr>\n",
       "    <tr>\n",
       "      <th>75%</th>\n",
       "      <td>668.500000</td>\n",
       "      <td>1.000000</td>\n",
       "      <td>3.000000</td>\n",
       "      <td>38.000000</td>\n",
       "      <td>1.000000</td>\n",
       "      <td>0.000000</td>\n",
       "      <td>31.000000</td>\n",
       "    </tr>\n",
       "    <tr>\n",
       "      <th>max</th>\n",
       "      <td>891.000000</td>\n",
       "      <td>1.000000</td>\n",
       "      <td>3.000000</td>\n",
       "      <td>80.000000</td>\n",
       "      <td>8.000000</td>\n",
       "      <td>6.000000</td>\n",
       "      <td>512.329200</td>\n",
       "    </tr>\n",
       "  </tbody>\n",
       "</table>\n",
       "</div>"
      ],
      "text/plain": [
       "       PassengerId    Survived      Pclass         Age       SibSp  \\\n",
       "count   891.000000  891.000000  891.000000  714.000000  891.000000   \n",
       "mean    446.000000    0.383838    2.308642   29.699118    0.523008   \n",
       "std     257.353842    0.486592    0.836071   14.526497    1.102743   \n",
       "min       1.000000    0.000000    1.000000    0.420000    0.000000   \n",
       "25%     223.500000    0.000000    2.000000   20.125000    0.000000   \n",
       "50%     446.000000    0.000000    3.000000   28.000000    0.000000   \n",
       "75%     668.500000    1.000000    3.000000   38.000000    1.000000   \n",
       "max     891.000000    1.000000    3.000000   80.000000    8.000000   \n",
       "\n",
       "            Parch        Fare  \n",
       "count  891.000000  891.000000  \n",
       "mean     0.381594   32.204208  \n",
       "std      0.806057   49.693429  \n",
       "min      0.000000    0.000000  \n",
       "25%      0.000000    7.910400  \n",
       "50%      0.000000   14.454200  \n",
       "75%      0.000000   31.000000  \n",
       "max      6.000000  512.329200  "
      ]
     },
     "execution_count": 16,
     "metadata": {},
     "output_type": "execute_result"
    }
   ],
   "source": [
    "data.describe()"
   ]
  },
  {
   "cell_type": "markdown",
   "id": "eda08a41-3c82-4bc9-9878-b7946160060f",
   "metadata": {},
   "source": [
    "## LABEL ENCODING"
   ]
  },
  {
   "cell_type": "code",
   "execution_count": 17,
   "id": "5d54c416-d4e1-40e5-bdf5-ac1455a283ed",
   "metadata": {},
   "outputs": [
    {
     "name": "stdout",
     "output_type": "stream",
     "text": [
      "0    0\n",
      "1    1\n",
      "2    1\n",
      "3    1\n",
      "4    0\n",
      "Name: Sex, dtype: int64\n"
     ]
    }
   ],
   "source": [
    "data['Sex'] = data['Sex'].astype(str).str.strip().str.lower()\n",
    "data['Sex'] = data['Sex'].map({'male':0, 'female':1})\n",
    "print(data['Sex'].head())"
   ]
  },
  {
   "cell_type": "markdown",
   "id": "5e720913-3ae8-4d5e-ae68-ba62a49e5029",
   "metadata": {},
   "source": [
    "## ONE HOT ENCODING"
   ]
  },
  {
   "cell_type": "code",
   "execution_count": 18,
   "id": "fb2403af-89a7-4d95-bed5-ed1938045023",
   "metadata": {},
   "outputs": [
    {
     "name": "stdout",
     "output_type": "stream",
     "text": [
      "['S' 'C' 'Q']\n"
     ]
    }
   ],
   "source": [
    "data['Embarked'] = data['Embarked'].fillna(data['Embarked'].mode()[0])\n",
    "print(data['Embarked'].unique())"
   ]
  },
  {
   "cell_type": "code",
   "execution_count": 19,
   "id": "8b886738-83ca-4317-9b4c-95c9b6a34a4a",
   "metadata": {},
   "outputs": [
    {
     "name": "stdout",
     "output_type": "stream",
     "text": [
      "   PassengerId  Survived  Pclass  \\\n",
      "0            1         0       3   \n",
      "1            2         1       1   \n",
      "2            3         1       3   \n",
      "3            4         1       1   \n",
      "4            5         0       3   \n",
      "\n",
      "                                                Name  Sex   Age  SibSp  Parch  \\\n",
      "0                            Braund, Mr. Owen Harris    0  22.0      1      0   \n",
      "1  Cumings, Mrs. John Bradley (Florence Briggs Th...    1  38.0      1      0   \n",
      "2                             Heikkinen, Miss. Laina    1  26.0      0      0   \n",
      "3       Futrelle, Mrs. Jacques Heath (Lily May Peel)    1  35.0      1      0   \n",
      "4                           Allen, Mr. William Henry    0  35.0      0      0   \n",
      "\n",
      "             Ticket     Fare Cabin  Embarked_C  Embarked_Q  Embarked_S  \n",
      "0         A/5 21171   7.2500   NaN       False       False        True  \n",
      "1          PC 17599  71.2833   C85        True       False       False  \n",
      "2  STON/O2. 3101282   7.9250   NaN       False       False        True  \n",
      "3            113803  53.1000  C123       False       False        True  \n",
      "4            373450   8.0500   NaN       False       False        True  \n"
     ]
    }
   ],
   "source": [
    "data = pd.get_dummies(data, columns = ['Embarked'], prefix='Embarked')\n",
    "print(data.head())"
   ]
  },
  {
   "cell_type": "code",
   "execution_count": 20,
   "id": "7710c713-d3ce-4dc0-bf64-64e2b99d5e15",
   "metadata": {},
   "outputs": [
    {
     "name": "stdout",
     "output_type": "stream",
     "text": [
      "['Unknown' 'C85' 'C123' 'E46' 'G6']\n"
     ]
    }
   ],
   "source": [
    "data['Cabin'] = data['Cabin'].fillna('Unknown')\n",
    "print(data['Cabin'].unique()[:5])"
   ]
  },
  {
   "cell_type": "code",
   "execution_count": 21,
   "id": "7cd833d5-8823-4763-ab7e-c743faaafd71",
   "metadata": {},
   "outputs": [
    {
     "name": "stdout",
     "output_type": "stream",
     "text": [
      "0    U\n",
      "1    C\n",
      "2    U\n",
      "3    C\n",
      "4    U\n",
      "Name: Deck, dtype: object\n"
     ]
    }
   ],
   "source": [
    "data['Deck'] = data['Cabin'].apply(lambda x: x[0] if x != 'Uknown' else 'U')\n",
    "print(data['Deck'].head())"
   ]
  },
  {
   "cell_type": "markdown",
   "id": "680337a3-c297-4f29-afea-8176d6f57669",
   "metadata": {},
   "source": [
    "## GROUP BY TICKETS"
   ]
  },
  {
   "cell_type": "code",
   "execution_count": 23,
   "id": "95a3dbac-1e04-4714-b2b5-b2a3bd8454be",
   "metadata": {},
   "outputs": [
    {
     "name": "stdout",
     "output_type": "stream",
     "text": [
      "Ticket\n",
      "347082      7\n",
      "CA. 2343    7\n",
      "1601        7\n",
      "3101295     6\n",
      "CA 2144     6\n",
      "           ..\n",
      "9234        1\n",
      "19988       1\n",
      "2693        1\n",
      "PC 17612    1\n",
      "370376      1\n",
      "Name: count, Length: 681, dtype: int64\n"
     ]
    }
   ],
   "source": [
    "ticket_count = data['Ticket'].value_counts()\n",
    "print(ticket_count)"
   ]
  },
  {
   "cell_type": "code",
   "execution_count": 25,
   "id": "b0bdc82f-5c4e-4a54-ada1-2dcbd7765227",
   "metadata": {},
   "outputs": [
    {
     "name": "stdout",
     "output_type": "stream",
     "text": [
      "             Ticket  TicketGroupSize\n",
      "0         A/5 21171                1\n",
      "1          PC 17599                1\n",
      "2  STON/O2. 3101282                1\n",
      "3            113803                2\n",
      "4            373450                1\n",
      "5            330877                1\n",
      "6             17463                1\n",
      "7            349909                4\n",
      "8            347742                3\n",
      "9            237736                2\n"
     ]
    }
   ],
   "source": [
    "data['TicketGroupSize'] = data['Ticket'].map(ticket_count)\n",
    "print(data[['Ticket', 'TicketGroupSize']].head(10))"
   ]
  },
  {
   "cell_type": "code",
   "execution_count": 26,
   "id": "684d3213-dea2-440a-8803-391146590aa2",
   "metadata": {},
   "outputs": [
    {
     "name": "stdout",
     "output_type": "stream",
     "text": [
      "[1 2 4 3 7 5 6]\n"
     ]
    }
   ],
   "source": [
    "print(data['TicketGroupSize'].unique())"
   ]
  },
  {
   "cell_type": "code",
   "execution_count": 28,
   "id": "fd1de3ef-cb93-41b6-96aa-ed0c8d4473d7",
   "metadata": {},
   "outputs": [
    {
     "name": "stdout",
     "output_type": "stream",
     "text": [
      "             Ticket  TicketGroupSize GroupType\n",
      "0         A/5 21171                1    sINGLE\n",
      "1          PC 17599                1    sINGLE\n",
      "2  STON/O2. 3101282                1    sINGLE\n",
      "3            113803                2    LOVERS\n",
      "4            373450                1    sINGLE\n"
     ]
    }
   ],
   "source": [
    "def group_type(size):\n",
    "  if size == 1:\n",
    "    return 'sINGLE'\n",
    "  elif size == 2:\n",
    "    return 'LOVERS'\n",
    "  else:\n",
    "    return 'GANG'\n",
    "\n",
    "data['GroupType'] = data['TicketGroupSize'].apply(group_type)\n",
    "print(data[['Ticket', 'TicketGroupSize', 'GroupType']].head())"
   ]
  },
  {
   "cell_type": "markdown",
   "id": "d9a2e20f-64fe-4d02-bc9b-596b024da435",
   "metadata": {},
   "source": [
    "## STANDARD SCALER"
   ]
  },
  {
   "cell_type": "code",
   "execution_count": 29,
   "id": "e88cbfdc-4bcd-407d-a854-4d1ff3594421",
   "metadata": {},
   "outputs": [
    {
     "name": "stdout",
     "output_type": "stream",
     "text": [
      "Scaler Features\n",
      "          Age      Fare  TicketGroupSize\n",
      "0   -0.530377 -0.502445        -0.579162\n",
      "1    0.571831  0.786845        -0.579162\n",
      "2   -0.254825 -0.488854        -0.579162\n",
      "3    0.365167  0.420730         0.155928\n",
      "4    0.365167 -0.486337        -0.579162\n",
      "..        ...       ...              ...\n",
      "886 -0.185937 -0.386671        -0.579162\n",
      "887 -0.737041 -0.044381        -0.579162\n",
      "888       NaN -0.176263         0.155928\n",
      "889 -0.254825 -0.044381        -0.579162\n",
      "890  0.158503 -0.492378        -0.579162\n",
      "\n",
      "[891 rows x 3 columns]\n"
     ]
    }
   ],
   "source": [
    "\n",
    "from sklearn.preprocessing import StandardScaler\n",
    "\n",
    "scale_col = ['Age', 'Fare', 'TicketGroupSize']\n",
    "\n",
    "scaler = StandardScaler()\n",
    "\n",
    "data[scale_col] = scaler.fit_transform(data[scale_col])\n",
    "\n",
    "print(\"Scaler Features\")\n",
    "\n",
    "print(data[scale_col])"
   ]
  },
  {
   "cell_type": "markdown",
   "id": "c5f605f1-06b7-44cb-9296-edbd22fb7bbf",
   "metadata": {},
   "source": [
    "## STATASTICAL METHODS"
   ]
  },
  {
   "cell_type": "code",
   "execution_count": 30,
   "id": "d29c4be9-a7d6-4732-b5d2-c8cf313c7ce4",
   "metadata": {},
   "outputs": [
    {
     "name": "stdout",
     "output_type": "stream",
     "text": [
      "Mean: Age                2.388379e-16\n",
      "Fare               3.987333e-18\n",
      "TicketGroupSize    6.180366e-17\n",
      "dtype: float64\n",
      "Standard deviation: Age                1.000701\n",
      "Fare               1.000562\n",
      "TicketGroupSize    1.000562\n",
      "dtype: float64\n"
     ]
    }
   ],
   "source": [
    "print('Mean:',data[scale_col].mean())\n",
    "\n",
    "print('Standard deviation:', data[scale_col].std())"
   ]
  },
  {
   "cell_type": "code",
   "execution_count": null,
   "id": "b87ac8f1-ae43-4261-b0cb-322ada13702f",
   "metadata": {},
   "outputs": [],
   "source": []
  }
 ],
 "metadata": {
  "kernelspec": {
   "display_name": "Python 3 (ipykernel)",
   "language": "python",
   "name": "python3"
  },
  "language_info": {
   "codemirror_mode": {
    "name": "ipython",
    "version": 3
   },
   "file_extension": ".py",
   "mimetype": "text/x-python",
   "name": "python",
   "nbconvert_exporter": "python",
   "pygments_lexer": "ipython3",
   "version": "3.12.7"
  }
 },
 "nbformat": 4,
 "nbformat_minor": 5
}
